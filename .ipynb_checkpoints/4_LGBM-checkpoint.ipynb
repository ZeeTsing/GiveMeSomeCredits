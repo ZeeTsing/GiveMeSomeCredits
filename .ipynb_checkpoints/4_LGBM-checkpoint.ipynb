{
 "cells": [
  {
   "cell_type": "markdown",
   "metadata": {},
   "source": [
    "# Import data and treat missing values\n",
    "\n",
    "As observed in first iteration, the data is rather clean except some missing values\n",
    "\n",
    "The fact that only 12 features included in the data means that we may skip the process of feature selection but we could consider feature engineering if needed"
   ]
  },
  {
   "cell_type": "code",
   "execution_count": 1,
   "metadata": {},
   "outputs": [],
   "source": [
    "import pandas as pd\n",
    "import numpy as np\n",
    "import seaborn as sns\n",
    "import matplotlib.pyplot as plt\n",
    "import scipy\n",
    "from collections import Counter\n",
    "from helper_func import *"
   ]
  },
  {
   "cell_type": "code",
   "execution_count": 2,
   "metadata": {},
   "outputs": [
    {
     "name": "stderr",
     "output_type": "stream",
     "text": [
      "C:\\Users\\Zhiqing\\Anaconda3\\lib\\site-packages\\tensorflow\\python\\framework\\dtypes.py:526: FutureWarning: Passing (type, 1) or '1type' as a synonym of type is deprecated; in a future version of numpy, it will be understood as (type, (1,)) / '(1,)type'.\n",
      "  _np_qint8 = np.dtype([(\"qint8\", np.int8, 1)])\n",
      "C:\\Users\\Zhiqing\\Anaconda3\\lib\\site-packages\\tensorflow\\python\\framework\\dtypes.py:527: FutureWarning: Passing (type, 1) or '1type' as a synonym of type is deprecated; in a future version of numpy, it will be understood as (type, (1,)) / '(1,)type'.\n",
      "  _np_quint8 = np.dtype([(\"quint8\", np.uint8, 1)])\n",
      "C:\\Users\\Zhiqing\\Anaconda3\\lib\\site-packages\\tensorflow\\python\\framework\\dtypes.py:528: FutureWarning: Passing (type, 1) or '1type' as a synonym of type is deprecated; in a future version of numpy, it will be understood as (type, (1,)) / '(1,)type'.\n",
      "  _np_qint16 = np.dtype([(\"qint16\", np.int16, 1)])\n",
      "C:\\Users\\Zhiqing\\Anaconda3\\lib\\site-packages\\tensorflow\\python\\framework\\dtypes.py:529: FutureWarning: Passing (type, 1) or '1type' as a synonym of type is deprecated; in a future version of numpy, it will be understood as (type, (1,)) / '(1,)type'.\n",
      "  _np_quint16 = np.dtype([(\"quint16\", np.uint16, 1)])\n",
      "C:\\Users\\Zhiqing\\Anaconda3\\lib\\site-packages\\tensorflow\\python\\framework\\dtypes.py:530: FutureWarning: Passing (type, 1) or '1type' as a synonym of type is deprecated; in a future version of numpy, it will be understood as (type, (1,)) / '(1,)type'.\n",
      "  _np_qint32 = np.dtype([(\"qint32\", np.int32, 1)])\n",
      "C:\\Users\\Zhiqing\\Anaconda3\\lib\\site-packages\\tensorflow\\python\\framework\\dtypes.py:535: FutureWarning: Passing (type, 1) or '1type' as a synonym of type is deprecated; in a future version of numpy, it will be understood as (type, (1,)) / '(1,)type'.\n",
      "  np_resource = np.dtype([(\"resource\", np.ubyte, 1)])\n"
     ]
    }
   ],
   "source": [
    "from sklearn.metrics import accuracy_score, f1_score,roc_auc_score,accuracy_score, confusion_matrix, roc_curve\n",
    "from sklearn import preprocessing\n",
    "from imblearn.over_sampling import SMOTE\n",
    "from imblearn.over_sampling import RandomOverSampler\n",
    "from sklearn.linear_model import LogisticRegressionCV"
   ]
  },
  {
   "cell_type": "code",
   "execution_count": 3,
   "metadata": {},
   "outputs": [],
   "source": [
    "train_path = 'G:/Github/GiveMeSomeCredits/data/cs-training.csv'\n",
    "test_path = 'G:/Github/GiveMeSomeCredits/data/cs-test.csv'"
   ]
  },
  {
   "cell_type": "code",
   "execution_count": 4,
   "metadata": {},
   "outputs": [],
   "source": [
    "def data_import_and_preprocess(resample = 'ROS',scale = True):\n",
    "    #import\n",
    "    train_path = 'G:/Github/GiveMeSomeCredits/data/cs-training.csv'\n",
    "    test_path = 'G:/Github/GiveMeSomeCredits/data/cs-test.csv'\n",
    "    df_train = pd.read_csv(train_path,index_col = 0).reset_index()\n",
    "    df_test = pd.read_csv(test_path,index_col = 0).reset_index()\n",
    "    \n",
    "    #fill in NA\n",
    "    df_train = df_train.fillna(0)\n",
    "    df_test = df_test.fillna(0)\n",
    "    \n",
    "    y = df_train.SeriousDlqin2yrs\n",
    "    X = df_train.drop(columns=['SeriousDlqin2yrs','index'])\n",
    "    X_test = df_test.drop(columns=['SeriousDlqin2yrs','index'])\n",
    "    \n",
    "    assert resample\n",
    "    if resample == 'ROS':\n",
    "        X_resampled, y_resampled = RandomOverSampler(random_state=0).fit_sample(X,y)\n",
    "    elif resample == \"SMOTE\":\n",
    "        X_resampled, y_resampled = SMOTE(random_state=0).fit_sample(X,y)\n",
    "    \n",
    "    if scale:\n",
    "        scaler = preprocessing.StandardScaler().fit(X_resampled)\n",
    "        X_train = scaler.transform(X_resampled)\n",
    "        X_test = scaler.transform(X_test)\n",
    "    else:\n",
    "        X_train = X_resampled\n",
    "    \n",
    "    return X_train,y_resampled,X_test"
   ]
  },
  {
   "cell_type": "code",
   "execution_count": 13,
   "metadata": {},
   "outputs": [],
   "source": [
    "df_test = pd.read_csv(test_path,index_col = 0).reset_index()"
   ]
  },
  {
   "cell_type": "markdown",
   "metadata": {},
   "source": [
    "# Model training"
   ]
  },
  {
   "cell_type": "markdown",
   "metadata": {},
   "source": [
    "\n",
    "* Light GBM model\n"
   ]
  },
  {
   "cell_type": "code",
   "execution_count": 5,
   "metadata": {},
   "outputs": [],
   "source": [
    "X_train,y_train,X_test = data_import_and_preprocess()"
   ]
  },
  {
   "cell_type": "code",
   "execution_count": 8,
   "metadata": {},
   "outputs": [],
   "source": [
    "import lightgbm\n",
    "from sklearn.model_selection import GridSearchCV"
   ]
  },
  {
   "cell_type": "code",
   "execution_count": 9,
   "metadata": {},
   "outputs": [],
   "source": [
    "clf = lightgbm.LGBMClassifier(num_leaves=80, \n",
    "                    max_depth=7, \n",
    "                    min_data_in_leaf=3,\n",
    "                    objective='binary')"
   ]
  },
  {
   "cell_type": "code",
   "execution_count": 10,
   "metadata": {},
   "outputs": [],
   "source": [
    "fitted_model,results = model_fit_train_score_skf(clf,X_train,y_train)"
   ]
  },
  {
   "cell_type": "code",
   "execution_count": 11,
   "metadata": {},
   "outputs": [
    {
     "name": "stdout",
     "output_type": "stream",
     "text": [
      "Accuracy: 0.814 \n",
      "F1 score: 0.813 \n",
      "AUC score: 0.898\n"
     ]
    }
   ],
   "source": [
    "print(f\"Accuracy: {results['Accuracy_mean']:.3f} \\nF1 score: {results['F1_mean']:.3f} \\nAUC score: {results['AUC_mean']:.3f}\")"
   ]
  },
  {
   "cell_type": "code",
   "execution_count": 14,
   "metadata": {},
   "outputs": [],
   "source": [
    "df_test['Probability'] = fitted_model.predict_proba(X_test)[:,1]\n",
    "columns_output = ['index','Probability']\n",
    "\n",
    "output_df = pd.DataFrame(df_test[columns_output])\n",
    "output_df = output_df.rename(columns={'index':\"Id\"})\n",
    "\n",
    "save_path = 'G:/Github/GiveMeSomeCredits/output/1st_sublgbm.csv'\n",
    "output_df.to_csv(save_path,index=False)"
   ]
  },
  {
   "cell_type": "code",
   "execution_count": 19,
   "metadata": {},
   "outputs": [
    {
     "data": {
      "text/plain": [
       "<matplotlib.axes._subplots.AxesSubplot at 0x1534f6c17f0>"
      ]
     },
     "execution_count": 19,
     "metadata": {},
     "output_type": "execute_result"
    },
    {
     "data": {
      "image/png": "[encoded data removed]",
      "text/plain": [
       "<Figure size 432x288 with 1 Axes>"
      ]
     },
     "metadata": {
      "needs_background": "light"
     },
     "output_type": "display_data"
    }
   ],
   "source": [
    "lightgbm.plot_importance(fitted_model,importance_type='gain')"
   ]
  },
  {
   "cell_type": "markdown",
   "metadata": {},
   "source": [
    "* Kaggle score: 0.86194\n",
    "\n",
    "Can we improve it?"
   ]
  },
  {
   "cell_type": "code",
   "execution_count": 33,
   "metadata": {},
   "outputs": [
    {
     "name": "stdout",
     "output_type": "stream",
     "text": [
      "{'mean_fit_time': array([4.46984544, 4.6122642 , 4.58475285, 4.57157779, 4.7022244 ,\n",
      "       4.33919454, 4.30608263, 4.55182571, 4.55182543, 4.64258289,\n",
      "       4.35235882, 4.411202  , 4.50995941, 4.90926909, 4.79278097,\n",
      "       4.31067095, 4.21512547, 4.28813047, 4.35854192, 4.44491115,\n",
      "       4.53467202, 4.60468392, 4.68048124, 4.77802062, 4.8277204 ,\n",
      "       4.68147807, 4.76106601, 5.05049977, 5.19630151, 5.07183466,\n",
      "       4.30548425, 4.38945951, 4.44570961, 4.12697673, 4.23987379,\n",
      "       4.56877975, 4.26958022, 3.99930296, 4.02064624, 3.99272084,\n",
      "       3.80842338, 3.80402541, 3.99531336, 4.09085879, 3.95601749,\n",
      "       3.37059464, 3.46933084, 3.20402937, 3.32730098, 3.58361478,\n",
      "       3.38355026, 3.32111692, 3.2744411 , 3.25349708, 3.3408639 ,\n",
      "       3.25290036, 3.28321724, 3.39272437, 3.46333632, 3.31014628]), 'std_fit_time': array([0.06159452, 0.07058873, 0.02257621, 0.0502278 , 0.07348172,\n",
      "       0.07043777, 0.03527016, 0.08854198, 0.02460005, 0.09874665,\n",
      "       0.07228575, 0.04040421, 0.11921143, 0.06776631, 0.08117505,\n",
      "       0.06987897, 0.04519043, 0.08994069, 0.05208825, 0.0466835 ,\n",
      "       0.0684123 , 0.05189925, 0.08118747, 0.08915265, 0.19996743,\n",
      "       0.21439274, 0.22129125, 0.11953475, 0.0445191 , 0.06719086,\n",
      "       0.15419857, 0.10404466, 0.1968451 , 0.06174666, 0.10946516,\n",
      "       0.27559617, 0.13748724, 0.06152787, 0.05519648, 0.02698701,\n",
      "       0.07174392, 0.04354285, 0.11228552, 0.08478695, 0.03200503,\n",
      "       0.05207075, 0.03738646, 0.0558988 , 0.1070731 , 0.08712249,\n",
      "       0.1174577 , 0.15531607, 0.0628225 , 0.02998208, 0.06147497,\n",
      "       0.08215018, 0.03149398, 0.03807351, 0.06592796, 0.07096883]), 'mean_score_time': array([0.47931738, 0.50704379, 0.4721374 , 0.48330731, 0.49687042,\n",
      "       0.42227058, 0.43024926, 0.46495709, 0.47532907, 0.47512913,\n",
      "       0.42925277, 0.44062171, 0.51282821, 0.49208369, 0.52599287,\n",
      "       0.48669853, 0.48889289, 0.53975744, 0.52978363, 0.5585062 ,\n",
      "       0.49367905, 0.50365367, 0.55551443, 0.58325157, 0.58543448,\n",
      "       0.50903888, 0.55531549, 0.6823832 , 0.60757585, 0.59421096,\n",
      "       0.68875809, 0.72925076, 0.67838578, 0.64946308, 0.68157706,\n",
      "       0.69773502, 0.67080636, 0.62313409, 0.63290749, 0.66821332,\n",
      "       0.5784534 , 0.63270831, 0.65046101, 0.64407892, 0.64467635,\n",
      "       0.62891831, 0.6422832 , 0.60717683, 0.65085902, 0.6414844 ,\n",
      "       0.63789477, 0.64308128, 0.63230925, 0.62034121, 0.64766841,\n",
      "       0.60538063, 0.62213674, 0.66841292, 0.69952931, 0.63051424]), 'std_score_time': array([0.02312948, 0.01682625, 0.03178063, 0.01238672, 0.02576423,\n",
      "       0.01077219, 0.0103568 , 0.01902229, 0.01766853, 0.01259387,\n",
      "       0.01544549, 0.02499703, 0.01920877, 0.01319504, 0.01637109,\n",
      "       0.02006648, 0.01158602, 0.0322086 , 0.0370717 , 0.0184647 ,\n",
      "       0.01175005, 0.01793023, 0.01604458, 0.03264346, 0.03475549,\n",
      "       0.01936507, 0.01729169, 0.07233524, 0.04562275, 0.05589425,\n",
      "       0.03635903, 0.05838993, 0.03584548, 0.01408149, 0.03056148,\n",
      "       0.03351718, 0.04501375, 0.01860892, 0.02146967, 0.04773551,\n",
      "       0.0106486 , 0.01936562, 0.02625297, 0.01993023, 0.00941136,\n",
      "       0.0249502 , 0.06695954, 0.00879517, 0.01191112, 0.01456845,\n",
      "       0.04354786, 0.04217838, 0.03432939, 0.01814026, 0.03175619,\n",
      "       0.01899729, 0.02323865, 0.03534163, 0.05988227, 0.0228948 ]), 'param_learning_rate': masked_array(data=[0.001, 0.001, 0.001, 0.001, 0.001, 0.001, 0.001, 0.001,\n",
      "                   0.001, 0.001, 0.001, 0.001, 0.001, 0.001, 0.001, 0.01,\n",
      "                   0.01, 0.01, 0.01, 0.01, 0.01, 0.01, 0.01, 0.01, 0.01,\n",
      "                   0.01, 0.01, 0.01, 0.01, 0.01, 0.05, 0.05, 0.05, 0.05,\n",
      "                   0.05, 0.05, 0.05, 0.05, 0.05, 0.05, 0.05, 0.05, 0.05,\n",
      "                   0.05, 0.05, 0.1, 0.1, 0.1, 0.1, 0.1, 0.1, 0.1, 0.1,\n",
      "                   0.1, 0.1, 0.1, 0.1, 0.1, 0.1, 0.1],\n",
      "             mask=[False, False, False, False, False, False, False, False,\n",
      "                   False, False, False, False, False, False, False, False,\n",
      "                   False, False, False, False, False, False, False, False,\n",
      "                   False, False, False, False, False, False, False, False,\n",
      "                   False, False, False, False, False, False, False, False,\n",
      "                   False, False, False, False, False, False, False, False,\n",
      "                   False, False, False, False, False, False, False, False,\n",
      "                   False, False, False, False],\n",
      "       fill_value='?',\n",
      "            dtype=object), 'param_max_depth': masked_array(data=[7, 7, 7, 7, 7, 7, 7, 7, 7, 7, 7, 7, 7, 7, 7, 7, 7, 7,\n",
      "                   7, 7, 7, 7, 7, 7, 7, 7, 7, 7, 7, 7, 7, 7, 7, 7, 7, 7,\n",
      "                   7, 7, 7, 7, 7, 7, 7, 7, 7, 7, 7, 7, 7, 7, 7, 7, 7, 7,\n",
      "                   7, 7, 7, 7, 7, 7],\n",
      "             mask=[False, False, False, False, False, False, False, False,\n",
      "                   False, False, False, False, False, False, False, False,\n",
      "                   False, False, False, False, False, False, False, False,\n",
      "                   False, False, False, False, False, False, False, False,\n",
      "                   False, False, False, False, False, False, False, False,\n",
      "                   False, False, False, False, False, False, False, False,\n",
      "                   False, False, False, False, False, False, False, False,\n",
      "                   False, False, False, False],\n",
      "       fill_value='?',\n",
      "            dtype=object), 'param_min_data_in_leaf': masked_array(data=[1, 1, 1, 1, 1, 3, 3, 3, 3, 3, 5, 5, 5, 5, 5, 1, 1, 1,\n",
      "                   1, 1, 3, 3, 3, 3, 3, 5, 5, 5, 5, 5, 1, 1, 1, 1, 1, 3,\n",
      "                   3, 3, 3, 3, 5, 5, 5, 5, 5, 1, 1, 1, 1, 1, 3, 3, 3, 3,\n",
      "                   3, 5, 5, 5, 5, 5],\n",
      "             mask=[False, False, False, False, False, False, False, False,\n",
      "                   False, False, False, False, False, False, False, False,\n",
      "                   False, False, False, False, False, False, False, False,\n",
      "                   False, False, False, False, False, False, False, False,\n",
      "                   False, False, False, False, False, False, False, False,\n",
      "                   False, False, False, False, False, False, False, False,\n",
      "                   False, False, False, False, False, False, False, False,\n",
      "                   False, False, False, False],\n",
      "       fill_value='?',\n",
      "            dtype=object), 'param_num_leaves': masked_array(data=[70, 80, 90, 100, 110, 70, 80, 90, 100, 110, 70, 80, 90,\n",
      "                   100, 110, 70, 80, 90, 100, 110, 70, 80, 90, 100, 110,\n",
      "                   70, 80, 90, 100, 110, 70, 80, 90, 100, 110, 70, 80, 90,\n",
      "                   100, 110, 70, 80, 90, 100, 110, 70, 80, 90, 100, 110,\n",
      "                   70, 80, 90, 100, 110, 70, 80, 90, 100, 110],\n",
      "             mask=[False, False, False, False, False, False, False, False,\n",
      "                   False, False, False, False, False, False, False, False,\n",
      "                   False, False, False, False, False, False, False, False,\n",
      "                   False, False, False, False, False, False, False, False,\n",
      "                   False, False, False, False, False, False, False, False,\n",
      "                   False, False, False, False, False, False, False, False,\n",
      "                   False, False, False, False, False, False, False, False,\n",
      "                   False, False, False, False],\n",
      "       fill_value='?',\n",
      "            dtype=object), 'params': [{'learning_rate': 0.001, 'max_depth': 7, 'min_data_in_leaf': 1, 'num_leaves': 70}, {'learning_rate': 0.001, 'max_depth': 7, 'min_data_in_leaf': 1, 'num_leaves': 80}, {'learning_rate': 0.001, 'max_depth': 7, 'min_data_in_leaf': 1, 'num_leaves': 90}, {'learning_rate': 0.001, 'max_depth': 7, 'min_data_in_leaf': 1, 'num_leaves': 100}, {'learning_rate': 0.001, 'max_depth': 7, 'min_data_in_leaf': 1, 'num_leaves': 110}, {'learning_rate': 0.001, 'max_depth': 7, 'min_data_in_leaf': 3, 'num_leaves': 70}, {'learning_rate': 0.001, 'max_depth': 7, 'min_data_in_leaf': 3, 'num_leaves': 80}, {'learning_rate': 0.001, 'max_depth': 7, 'min_data_in_leaf': 3, 'num_leaves': 90}, {'learning_rate': 0.001, 'max_depth': 7, 'min_data_in_leaf': 3, 'num_leaves': 100}, {'learning_rate': 0.001, 'max_depth': 7, 'min_data_in_leaf': 3, 'num_leaves': 110}, {'learning_rate': 0.001, 'max_depth': 7, 'min_data_in_leaf': 5, 'num_leaves': 70}, {'learning_rate': 0.001, 'max_depth': 7, 'min_data_in_leaf': 5, 'num_leaves': 80}, {'learning_rate': 0.001, 'max_depth': 7, 'min_data_in_leaf': 5, 'num_leaves': 90}, {'learning_rate': 0.001, 'max_depth': 7, 'min_data_in_leaf': 5, 'num_leaves': 100}, {'learning_rate': 0.001, 'max_depth': 7, 'min_data_in_leaf': 5, 'num_leaves': 110}, {'learning_rate': 0.01, 'max_depth': 7, 'min_data_in_leaf': 1, 'num_leaves': 70}, {'learning_rate': 0.01, 'max_depth': 7, 'min_data_in_leaf': 1, 'num_leaves': 80}, {'learning_rate': 0.01, 'max_depth': 7, 'min_data_in_leaf': 1, 'num_leaves': 90}, {'learning_rate': 0.01, 'max_depth': 7, 'min_data_in_leaf': 1, 'num_leaves': 100}, {'learning_rate': 0.01, 'max_depth': 7, 'min_data_in_leaf': 1, 'num_leaves': 110}, {'learning_rate': 0.01, 'max_depth': 7, 'min_data_in_leaf': 3, 'num_leaves': 70}, {'learning_rate': 0.01, 'max_depth': 7, 'min_data_in_leaf': 3, 'num_leaves': 80}, {'learning_rate': 0.01, 'max_depth': 7, 'min_data_in_leaf': 3, 'num_leaves': 90}, {'learning_rate': 0.01, 'max_depth': 7, 'min_data_in_leaf': 3, 'num_leaves': 100}, {'learning_rate': 0.01, 'max_depth': 7, 'min_data_in_leaf': 3, 'num_leaves': 110}, {'learning_rate': 0.01, 'max_depth': 7, 'min_data_in_leaf': 5, 'num_leaves': 70}, {'learning_rate': 0.01, 'max_depth': 7, 'min_data_in_leaf': 5, 'num_leaves': 80}, {'learning_rate': 0.01, 'max_depth': 7, 'min_data_in_leaf': 5, 'num_leaves': 90}, {'learning_rate': 0.01, 'max_depth': 7, 'min_data_in_leaf': 5, 'num_leaves': 100}, {'learning_rate': 0.01, 'max_depth': 7, 'min_data_in_leaf': 5, 'num_leaves': 110}, {'learning_rate': 0.05, 'max_depth': 7, 'min_data_in_leaf': 1, 'num_leaves': 70}, {'learning_rate': 0.05, 'max_depth': 7, 'min_data_in_leaf': 1, 'num_leaves': 80}, {'learning_rate': 0.05, 'max_depth': 7, 'min_data_in_leaf': 1, 'num_leaves': 90}, {'learning_rate': 0.05, 'max_depth': 7, 'min_data_in_leaf': 1, 'num_leaves': 100}, {'learning_rate': 0.05, 'max_depth': 7, 'min_data_in_leaf': 1, 'num_leaves': 110}, {'learning_rate': 0.05, 'max_depth': 7, 'min_data_in_leaf': 3, 'num_leaves': 70}, {'learning_rate': 0.05, 'max_depth': 7, 'min_data_in_leaf': 3, 'num_leaves': 80}, {'learning_rate': 0.05, 'max_depth': 7, 'min_data_in_leaf': 3, 'num_leaves': 90}, {'learning_rate': 0.05, 'max_depth': 7, 'min_data_in_leaf': 3, 'num_leaves': 100}, {'learning_rate': 0.05, 'max_depth': 7, 'min_data_in_leaf': 3, 'num_leaves': 110}, {'learning_rate': 0.05, 'max_depth': 7, 'min_data_in_leaf': 5, 'num_leaves': 70}, {'learning_rate': 0.05, 'max_depth': 7, 'min_data_in_leaf': 5, 'num_leaves': 80}, {'learning_rate': 0.05, 'max_depth': 7, 'min_data_in_leaf': 5, 'num_leaves': 90}, {'learning_rate': 0.05, 'max_depth': 7, 'min_data_in_leaf': 5, 'num_leaves': 100}, {'learning_rate': 0.05, 'max_depth': 7, 'min_data_in_leaf': 5, 'num_leaves': 110}, {'learning_rate': 0.1, 'max_depth': 7, 'min_data_in_leaf': 1, 'num_leaves': 70}, {'learning_rate': 0.1, 'max_depth': 7, 'min_data_in_leaf': 1, 'num_leaves': 80}, {'learning_rate': 0.1, 'max_depth': 7, 'min_data_in_leaf': 1, 'num_leaves': 90}, {'learning_rate': 0.1, 'max_depth': 7, 'min_data_in_leaf': 1, 'num_leaves': 100}, {'learning_rate': 0.1, 'max_depth': 7, 'min_data_in_leaf': 1, 'num_leaves': 110}, {'learning_rate': 0.1, 'max_depth': 7, 'min_data_in_leaf': 3, 'num_leaves': 70}, {'learning_rate': 0.1, 'max_depth': 7, 'min_data_in_leaf': 3, 'num_leaves': 80}, {'learning_rate': 0.1, 'max_depth': 7, 'min_data_in_leaf': 3, 'num_leaves': 90}, {'learning_rate': 0.1, 'max_depth': 7, 'min_data_in_leaf': 3, 'num_leaves': 100}, {'learning_rate': 0.1, 'max_depth': 7, 'min_data_in_leaf': 3, 'num_leaves': 110}, {'learning_rate': 0.1, 'max_depth': 7, 'min_data_in_leaf': 5, 'num_leaves': 70}, {'learning_rate': 0.1, 'max_depth': 7, 'min_data_in_leaf': 5, 'num_leaves': 80}, {'learning_rate': 0.1, 'max_depth': 7, 'min_data_in_leaf': 5, 'num_leaves': 90}, {'learning_rate': 0.1, 'max_depth': 7, 'min_data_in_leaf': 5, 'num_leaves': 100}, {'learning_rate': 0.1, 'max_depth': 7, 'min_data_in_leaf': 5, 'num_leaves': 110}], 'split0_test_score': array([0.85896062, 0.85915639, 0.85936994, 0.85961668, 0.85969263,\n",
      "       0.85896062, 0.85915639, 0.85937989, 0.85958725, 0.85962136,\n",
      "       0.8589929 , 0.85924765, 0.85951596, 0.85970116, 0.85977312,\n",
      "       0.86610642, 0.86641132, 0.86659561, 0.86687412, 0.86706915,\n",
      "       0.86610642, 0.86638956, 0.86663302, 0.866792  , 0.86689978,\n",
      "       0.86609781, 0.86630574, 0.86650401, 0.86670657, 0.86683907,\n",
      "       0.88408994, 0.88518943, 0.88554331, 0.88591939, 0.88631188,\n",
      "       0.884353  , 0.8851874 , 0.88539261, 0.88578119, 0.88589058,\n",
      "       0.88408144, 0.88507085, 0.88555052, 0.88569221, 0.88551792,\n",
      "       0.89725157, 0.89697986, 0.89855758, 0.89834589, 0.89945941,\n",
      "       0.89634274, 0.89718475, 0.89935941, 0.89798839, 0.89778003,\n",
      "       0.89627613, 0.89752414, 0.89899205, 0.89880952, 0.89867272]), 'split1_test_score': array([0.85858616, 0.85887492, 0.85903692, 0.85920799, 0.8592836 ,\n",
      "       0.85858616, 0.85887492, 0.85903255, 0.85916634, 0.85916861,\n",
      "       0.85864377, 0.85890252, 0.85912058, 0.85931327, 0.85931089,\n",
      "       0.865     , 0.865405  , 0.86571163, 0.8659632 , 0.86610706,\n",
      "       0.865     , 0.86540627, 0.86574983, 0.86597064, 0.86600437,\n",
      "       0.86506488, 0.86544077, 0.86579993, 0.86592325, 0.86600352,\n",
      "       0.88294919, 0.88421807, 0.88466003, 0.88484147, 0.88468858,\n",
      "       0.88318708, 0.88391079, 0.88466824, 0.88501537, 0.88474192,\n",
      "       0.88346902, 0.88376987, 0.88404812, 0.88454526, 0.88506234,\n",
      "       0.89649448, 0.89758304, 0.89915958, 0.89772183, 0.89916367,\n",
      "       0.89478591, 0.89803485, 0.89815894, 0.89756731, 0.90020285,\n",
      "       0.89576273, 0.89852111, 0.89689222, 0.89858431, 0.89814653]), 'split2_test_score': array([0.86081278, 0.86093984, 0.86116299, 0.86135336, 0.86160098,\n",
      "       0.86081278, 0.86093984, 0.86115615, 0.86136307, 0.86141232,\n",
      "       0.86080309, 0.86089649, 0.86123256, 0.86137197, 0.86141697,\n",
      "       0.86652951, 0.86684518, 0.86719969, 0.86748408, 0.86760877,\n",
      "       0.86652951, 0.86684853, 0.86716747, 0.8673991 , 0.86754752,\n",
      "       0.8665359 , 0.86684893, 0.86707567, 0.86728416, 0.86745194,\n",
      "       0.88503322, 0.88576088, 0.88655014, 0.88680097, 0.88702269,\n",
      "       0.88511972, 0.88597426, 0.88665801, 0.88699312, 0.88669469,\n",
      "       0.88510169, 0.88592807, 0.88611487, 0.88681981, 0.88663247,\n",
      "       0.8968354 , 0.89771104, 0.89998122, 0.89942745, 0.8996222 ,\n",
      "       0.8974865 , 0.89864771, 0.90077632, 0.89954112, 0.90074187,\n",
      "       0.89791004, 0.89900605, 0.8986318 , 0.89937552, 0.90018218]), 'split3_test_score': array([0.85929943, 0.85950496, 0.85972941, 0.85964178, 0.85982997,\n",
      "       0.85929943, 0.85950496, 0.85972941, 0.85964988, 0.85973274,\n",
      "       0.85930161, 0.8595997 , 0.85984676, 0.85996344, 0.86002347,\n",
      "       0.86533473, 0.86561087, 0.86588733, 0.86603987, 0.86627346,\n",
      "       0.86533473, 0.86561087, 0.86590481, 0.86604798, 0.86623099,\n",
      "       0.86529904, 0.86563625, 0.86585946, 0.86607441, 0.86626236,\n",
      "       0.8839256 , 0.88446946, 0.88492601, 0.8855924 , 0.88579693,\n",
      "       0.88376044, 0.88475249, 0.88507339, 0.88599038, 0.88562365,\n",
      "       0.88383471, 0.88439534, 0.88520791, 0.8856034 , 0.88552573,\n",
      "       0.89611634, 0.89655642, 0.89793934, 0.89932088, 0.89923802,\n",
      "       0.89451222, 0.89745606, 0.89775059, 0.89863643, 0.89903836,\n",
      "       0.89610749, 0.89774109, 0.8995361 , 0.89935222, 0.89913219]), 'split4_test_score': array([0.86178076, 0.86194425, 0.86204693, 0.86226164, 0.86242957,\n",
      "       0.86178076, 0.86194425, 0.86204693, 0.86223477, 0.8624547 ,\n",
      "       0.86177004, 0.86193449, 0.86203616, 0.86224062, 0.86242779,\n",
      "       0.86803427, 0.86847504, 0.8686211 , 0.86899949, 0.86911599,\n",
      "       0.86803427, 0.86847377, 0.86864737, 0.86899357, 0.86908588,\n",
      "       0.86806001, 0.86838651, 0.86865082, 0.8688418 , 0.86897375,\n",
      "       0.88598033, 0.88674208, 0.88734757, 0.88777784, 0.8879784 ,\n",
      "       0.8858913 , 0.88691262, 0.88757033, 0.88764418, 0.88776858,\n",
      "       0.88601658, 0.88690348, 0.88730492, 0.88756271, 0.88780416,\n",
      "       0.89818777, 0.89896258, 0.89770164, 0.8997578 , 0.90097577,\n",
      "       0.89734434, 0.89889075, 0.90003862, 0.90005952, 0.89990031,\n",
      "       0.89731107, 0.89969938, 0.89872789, 0.89933327, 0.89998367]), 'mean_test_score': array([0.85988795, 0.86008407, 0.86026924, 0.86041629, 0.86056735,\n",
      "       0.85988795, 0.86008407, 0.86026899, 0.86040026, 0.86047795,\n",
      "       0.85990228, 0.86011617, 0.8603504 , 0.86051809, 0.86059045,\n",
      "       0.86620099, 0.86654948, 0.86680307, 0.86707215, 0.86723489,\n",
      "       0.86620099, 0.8665458 , 0.8668205 , 0.86704066, 0.86715371,\n",
      "       0.86621153, 0.86652364, 0.86677798, 0.86696604, 0.86710613,\n",
      "       0.88439566, 0.88527598, 0.88580541, 0.88618641, 0.8863597 ,\n",
      "       0.88446231, 0.88534752, 0.88587252, 0.88628485, 0.88614388,\n",
      "       0.88450069, 0.88521352, 0.88564527, 0.88604468, 0.88610852,\n",
      "       0.89697711, 0.89755859, 0.89866787, 0.89891477, 0.89969181,\n",
      "       0.89609434, 0.89804282, 0.89921678, 0.89875855, 0.89953268,\n",
      "       0.89667349, 0.89849835, 0.89855601, 0.89909097, 0.89922346]), 'std_test_score': array([0.00121153, 0.00117052, 0.00114697, 0.00118175, 0.00122418,\n",
      "       0.00121153, 0.00117052, 0.0011453 , 0.00118651, 0.00124772,\n",
      "       0.00118925, 0.00113218, 0.00110294, 0.0011066 , 0.00115635,\n",
      "       0.00106495, 0.00109591, 0.00105218, 0.00111525, 0.00108647,\n",
      "       0.00106495, 0.00109597, 0.00104669, 0.00110766, 0.00110682,\n",
      "       0.00106607, 0.00105675, 0.00104609, 0.00105541, 0.00105892,\n",
      "       0.00103193, 0.00091233, 0.00100864, 0.00101423, 0.00111098,\n",
      "       0.00095968, 0.00102823, 0.00107877, 0.00092751, 0.00102404,\n",
      "       0.00093196, 0.00110819, 0.00107015, 0.00104618, 0.00099324,\n",
      "       0.00071204, 0.00081661, 0.00082984, 0.00075963, 0.00066216,\n",
      "       0.00124719, 0.00065811, 0.00113108, 0.00093081, 0.00103562,\n",
      "       0.00080539, 0.00080291, 0.00088929, 0.0003298 , 0.00077052]), 'rank_test_score': array([59, 56, 53, 50, 47, 59, 56, 54, 51, 49, 58, 55, 52, 48, 46, 44, 40,\n",
      "       38, 34, 31, 44, 41, 37, 35, 32, 43, 42, 39, 36, 33, 30, 26, 23, 18,\n",
      "       16, 29, 25, 22, 17, 19, 28, 27, 24, 21, 20, 13, 12,  8,  6,  1, 15,\n",
      "       11,  4,  7,  2, 14, 10,  9,  5,  3])} {'learning_rate': 0.1, 'max_depth': 7, 'min_data_in_leaf': 1, 'num_leaves': 110} 0.8996918146847277\n"
     ]
    }
   ],
   "source": [
    "param_test1 = {'num_leaves':[70,80,90,100,110],\n",
    "              'max_depth':[7],\n",
    "              'min_data_in_leaf':[1,3,5],\n",
    "               'learning_rate':[0.001,0.01,0.05,0.1]\n",
    "              }\n",
    "\n",
    "gsearch1 = GridSearchCV(estimator=lightgbm.LGBMClassifier(objective='binary'),\n",
    "                      param_grid=param_test1,\n",
    "                       scoring='roc_auc',\n",
    "                       n_jobs=-1, cv=5)\n",
    "\n",
    "gsearch1.fit(X_train, y_train)\n",
    "print(gsearch1.cv_results_, gsearch1.best_params_, gsearch1.best_score_)"
   ]
  },
  {
   "cell_type": "code",
   "execution_count": 34,
   "metadata": {},
   "outputs": [],
   "source": [
    "df_test['Probability'] = gsearch1.predict_proba(X_test)[:,1]\n",
    "columns_output = ['index','Probability']\n",
    "\n",
    "output_df = pd.DataFrame(df_test[columns_output])\n",
    "output_df = output_df.rename(columns={'index':\"Id\"})\n",
    "\n",
    "save_path = 'G:/Github/GiveMeSomeCredits/output/2nd_sublgbm.csv'\n",
    "output_df.to_csv(save_path,index=False)"
   ]
  },
  {
   "cell_type": "markdown",
   "metadata": {},
   "source": [
    "Kaggle private score > 0.85671\n",
    "\n",
    "This suggests overfitting in the train set. We would want to deal with over fitting in light GBM by\n",
    " - limiting num_leaves\n",
    " - reduce max_depth > maybe 7 is too deep a tree for this problem, try 5 next\n",
    " - try to use bagging by set and bagging_freq\n",
    " \n",
    " (regularization methods more than above)"
   ]
  },
  {
   "cell_type": "code",
   "execution_count": null,
   "metadata": {},
   "outputs": [],
   "source": []
  }
 ],
 "metadata": {
  "kernelspec": {
   "display_name": "Python 3",
   "language": "python",
   "name": "python3"
  },
  "language_info": {
   "codemirror_mode": {
    "name": "ipython",
    "version": 3
   },
   "file_extension": ".py",
   "mimetype": "text/x-python",
   "name": "python",
   "nbconvert_exporter": "python",
   "pygments_lexer": "ipython3",
   "version": "3.7.3"
  }
 },
 "nbformat": 4,
 "nbformat_minor": 4
}
