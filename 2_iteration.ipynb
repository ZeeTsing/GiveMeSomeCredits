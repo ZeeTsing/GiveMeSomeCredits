{
 "cells": [
  {
   "cell_type": "markdown",
   "metadata": {},
   "source": [
    "# Import data and treat missing values\n",
    "\n",
    "As observed in first iteration, the data is rather clean except some missing values\n",
    "\n",
    "The fact that only 12 features included in the data means that we may skip the process of feature selection but we could consider feature engineering if needed"
   ]
  },
  {
   "cell_type": "code",
   "execution_count": 1,
   "metadata": {},
   "outputs": [],
   "source": [
    "import pandas as pd\n",
    "import numpy as np\n",
    "import seaborn as sns\n",
    "import matplotlib.pyplot as plt\n",
    "import scipy\n",
    "from collections import Counter\n",
    "from helper_func import *"
   ]
  },
  {
   "cell_type": "code",
   "execution_count": 2,
   "metadata": {},
   "outputs": [],
   "source": [
    "train_path = 'G:/Github/GiveMeSomeCredits/data/cs-training.csv'\n",
    "test_path = 'G:/Github/GiveMeSomeCredits/data/cs-test.csv'"
   ]
  },
  {
   "cell_type": "code",
   "execution_count": 3,
   "metadata": {},
   "outputs": [],
   "source": [
    "df_train = pd.read_csv(train_path,index_col = 0).reset_index()\n",
    "df_test = pd.read_csv(test_path,index_col = 0).reset_index()"
   ]
  },
  {
   "cell_type": "code",
   "execution_count": 30,
   "metadata": {},
   "outputs": [],
   "source": [
    "def data_import_and_preprocess(resample = 'ROS',scale = True):\n",
    "    #import\n",
    "    train_path = 'G:/Github/GiveMeSomeCredits/data/cs-training.csv'\n",
    "    test_path = 'G:/Github/GiveMeSomeCredits/data/cs-test.csv'\n",
    "    df_train = pd.read_csv(train_path,index_col = 0).reset_index()\n",
    "    df_test = pd.read_csv(test_path,index_col = 0).reset_index()\n",
    "    #fill in NA\n",
    "    df_train = df_train.fillna(0)\n",
    "    df_test = df_test.fillna(0)\n",
    "    \n",
    "    y = df_train.SeriousDlqin2yrs\n",
    "    X = df_train.drop(columns=['SeriousDlqin2yrs','index'])\n",
    "    X_test = df_test.drop(columns=['SeriousDlqin2yrs','index'])\n",
    "    \n",
    "    assert resample\n",
    "    if resample == 'ROS':\n",
    "        X_resampled, y_resampled = RandomOverSampler(random_state=0).fit_sample(X,y)\n",
    "    elif resample == \"SMOTE\":\n",
    "        X_resampled, y_resampled = SMOTE(random_state=0).fit_sample(X,y)\n",
    "    \n",
    "    if scale:\n",
    "        scaler = preprocessing.StandardScaler().fit(X_resampled)\n",
    "        X_train = scaler.transform(X_resampled)\n",
    "        X_test = scaler.transform(X_test)\n",
    "    else:\n",
    "        X_train = X_resampled\n",
    "    \n",
    "    return X_train,y_resampled,X_test"
   ]
  },
  {
   "cell_type": "markdown",
   "metadata": {},
   "source": [
    "# Model training"
   ]
  },
  {
   "cell_type": "markdown",
   "metadata": {},
   "source": [
    "To improve: consider over sampling with imbalance class\n"
   ]
  },
  {
   "cell_type": "code",
   "execution_count": 15,
   "metadata": {},
   "outputs": [],
   "source": [
    "from sklearn.metrics import accuracy_score, f1_score,roc_auc_score,accuracy_score, confusion_matrix, roc_curve\n",
    "from sklearn import preprocessing\n",
    "from imblearn.over_sampling import SMOTE\n",
    "from imblearn.over_sampling import RandomOverSampler\n",
    "from sklearn.linear_model import LogisticRegressionCV"
   ]
  },
  {
   "cell_type": "code",
   "execution_count": 31,
   "metadata": {},
   "outputs": [],
   "source": [
    "X_train,y_train,X_test = data_import_and_preprocess()"
   ]
  },
  {
   "cell_type": "code",
   "execution_count": 32,
   "metadata": {},
   "outputs": [],
   "source": [
    "model = LogisticRegressionCV(Cs = [0.9,1,2,3],cv = 5,penalty =  'l2',max_iter = 1000,random_state = 0)"
   ]
  },
  {
   "cell_type": "code",
   "execution_count": 33,
   "metadata": {},
   "outputs": [],
   "source": [
    "fitted_model,results = model_fit_train_score_skf(model,X_train,y_train)"
   ]
  },
  {
   "cell_type": "code",
   "execution_count": 34,
   "metadata": {},
   "outputs": [
    {
     "name": "stdout",
     "output_type": "stream",
     "text": [
      "Accuracy: 0.714 \n",
      "F1 score: 0.695 \n",
      "AUC score: 0.790\n"
     ]
    }
   ],
   "source": [
    "print(f\"Accuracy: {results['Accuracy_mean']:.3f} \\nF1 score: {results['F1_mean']:.3f} \\nAUC score: {results['AUC_mean']:.3f}\")"
   ]
  },
  {
   "cell_type": "markdown",
   "metadata": {},
   "source": [
    "Not bad, 10% improvement on AUC from the first attempt"
   ]
  },
  {
   "cell_type": "code",
   "execution_count": 36,
   "metadata": {},
   "outputs": [],
   "source": [
    "df_test['Probability'] = fitted_model.predict_proba(X_test)[:,1]\n",
    "columns_output = ['index','Probability']\n",
    "output_df = pd.DataFrame(df_test[columns_output])\n",
    "output_df = output_df.rename(columns={'index':\"Id\"})\n",
    "save_path = 'G:/Github/GiveMeSomeCredits/output/2nd_sub.csv'\n",
    "output_df.to_csv(save_path,index=False)"
   ]
  },
  {
   "cell_type": "markdown",
   "metadata": {},
   "source": [
    "New models to consider:\n",
    "\n",
    "* XGB classifier\n"
   ]
  },
  {
   "cell_type": "code",
   "execution_count": 40,
   "metadata": {},
   "outputs": [],
   "source": [
    "import xgboost as xgb\n",
    "from xgboost import XGBClassifier\n",
    "from sklearn.model_selection import GridSearchCV"
   ]
  },
  {
   "cell_type": "code",
   "execution_count": 51,
   "metadata": {},
   "outputs": [],
   "source": [
    "clf2 = XGBClassifier(learning_rate=0.1, \n",
    "                    min_child_weight=3, \n",
    "                    colsample_bytree=0.9,\n",
    "                    objective='binary:logistic')"
   ]
  },
  {
   "cell_type": "code",
   "execution_count": 52,
   "metadata": {},
   "outputs": [],
   "source": [
    "fitted_model,results = model_fit_train_score_skf(clf2,X_train,y_train)"
   ]
  },
  {
   "cell_type": "code",
   "execution_count": 53,
   "metadata": {},
   "outputs": [
    {
     "name": "stdout",
     "output_type": "stream",
     "text": [
      "Accuracy: 0.789 \n",
      "F1 score: 0.787 \n",
      "AUC score: 0.869\n"
     ]
    }
   ],
   "source": [
    "print(f\"Accuracy: {results['Accuracy_mean']:.3f} \\nF1 score: {results['F1_mean']:.3f} \\nAUC score: {results['AUC_mean']:.3f}\")"
   ]
  },
  {
   "cell_type": "code",
   "execution_count": 54,
   "metadata": {},
   "outputs": [],
   "source": [
    "df_test['Probability'] = fitted_model.predict_proba(X_test)[:,1]\n",
    "columns_output = ['index','Probability']\n",
    "\n",
    "output_df = pd.DataFrame(df_test[columns_output])\n",
    "output_df = output_df.rename(columns={'index':\"Id\"})\n",
    "\n",
    "save_path = 'G:/Github/GiveMeSomeCredits/output/3rd_sub.csv'\n",
    "output_df.to_csv(save_path,index=False)"
   ]
  },
  {
   "cell_type": "markdown",
   "metadata": {},
   "source": [
    "* Kaggle score: 0.8670\n",
    "\n",
    "Still can be improved?"
   ]
  },
  {
   "cell_type": "code",
   "execution_count": 41,
   "metadata": {},
   "outputs": [
    {
     "name": "stdout",
     "output_type": "stream",
     "text": [
      "{'mean_fit_time': array([10.55895991, 13.97043834, 14.32429152, 11.28601456, 13.7222333 ,\n",
      "       11.8626718 , 10.17578464, 12.28973074, 10.86274648, 10.24898829,\n",
      "       11.95981212, 10.56357474,  9.76727581, 12.29592152, 11.20144038,\n",
      "       11.47191801, 11.60176969, 10.57571445, 11.38794241, 13.41056046,\n",
      "       12.55143075, 11.98953295, 13.76200576, 12.4142096 , 11.3346848 ,\n",
      "       13.71950636, 12.78620257, 11.87124829, 13.77755036, 12.63460784,\n",
      "       11.85401688, 13.92527099, 12.62583046, 12.30570478, 13.4839416 ,\n",
      "       12.3617383 , 13.09707713, 15.8858139 , 14.60435519, 13.76060128,\n",
      "       16.40244002, 15.2918283 , 14.69350095, 16.46596107, 15.07458487,\n",
      "       13.58537321, 15.69901118, 14.83492279, 13.84560614, 15.95732155,\n",
      "       14.60433898, 13.53580637, 15.58463888, 13.68929391]), 'std_fit_time': array([0.23292051, 1.77732804, 0.6902639 , 0.79537967, 0.14033206,\n",
      "       1.05774693, 0.2046242 , 0.11647685, 0.06183558, 0.15647441,\n",
      "       0.10987383, 0.16322649, 0.13413567, 0.21153537, 0.22459894,\n",
      "       0.38322914, 0.10378445, 0.32537708, 0.05528644, 0.14869505,\n",
      "       0.27713517, 0.20080643, 0.10107452, 0.15656599, 0.05319026,\n",
      "       0.24194072, 0.16995632, 0.0398027 , 0.09902187, 0.16149195,\n",
      "       0.03999356, 0.09112268, 0.27707008, 0.41440436, 0.0761939 ,\n",
      "       0.09222053, 0.17825527, 0.14111842, 0.0723544 , 0.0988627 ,\n",
      "       0.47846567, 0.47252535, 0.96344879, 0.64163758, 0.20775023,\n",
      "       0.14847453, 0.28647959, 0.11781853, 0.2847533 , 0.12965935,\n",
      "       0.25585242, 0.08259699, 0.09739511, 1.39354264]), 'mean_score_time': array([0.2044528 , 0.1753315 , 0.18849602, 0.18430705, 0.17014461,\n",
      "       0.16575704, 0.17213926, 0.18370848, 0.17453327, 0.1757297 ,\n",
      "       0.17553134, 0.16416111, 0.16715364, 0.18769832, 0.17573028,\n",
      "       0.17293715, 0.16695375, 0.16635518, 0.16974602, 0.16156816,\n",
      "       0.17094254, 0.1727385 , 0.16376152, 0.16735182, 0.16555705,\n",
      "       0.17732577, 0.17313685, 0.16755204, 0.17174191, 0.17134194,\n",
      "       0.1729373 , 0.16775155, 0.17553134, 0.18191462, 0.1651588 ,\n",
      "       0.16436014, 0.16994615, 0.16515946, 0.16555734, 0.16914864,\n",
      "       0.16376228, 0.16835041, 0.17573009, 0.16715307, 0.16376233,\n",
      "       0.17632885, 0.1625658 , 0.16914864, 0.16815014, 0.1685492 ,\n",
      "       0.16635594, 0.16456008, 0.16416082, 0.16954699]), 'std_score_time': array([0.02238167, 0.00410727, 0.03263536, 0.00736703, 0.00840679,\n",
      "       0.00385763, 0.00638913, 0.01761047, 0.00643287, 0.00791394,\n",
      "       0.00827362, 0.00257016, 0.00474562, 0.01426506, 0.008113  ,\n",
      "       0.00791899, 0.00421257, 0.00425018, 0.01348996, 0.00252261,\n",
      "       0.01521221, 0.0087718 , 0.0034206 , 0.00461034, 0.00189228,\n",
      "       0.01378162, 0.00845373, 0.00356812, 0.00551271, 0.00736664,\n",
      "       0.00875419, 0.00697875, 0.01969585, 0.01764514, 0.00552053,\n",
      "       0.00415478, 0.00768861, 0.00544775, 0.0035122 , 0.0044874 ,\n",
      "       0.00353499, 0.01447285, 0.00589657, 0.00444283, 0.00525466,\n",
      "       0.00768345, 0.00676437, 0.00924061, 0.00706911, 0.00413584,\n",
      "       0.00668704, 0.00383694, 0.00401934, 0.02338082]), 'param_colsample_bytree': masked_array(data=[0.5, 0.5, 0.5, 0.5, 0.5, 0.5, 0.5, 0.5, 0.5, 0.5, 0.5,\n",
      "                   0.5, 0.5, 0.5, 0.5, 0.5, 0.5, 0.5, 0.7, 0.7, 0.7, 0.7,\n",
      "                   0.7, 0.7, 0.7, 0.7, 0.7, 0.7, 0.7, 0.7, 0.7, 0.7, 0.7,\n",
      "                   0.7, 0.7, 0.7, 0.9, 0.9, 0.9, 0.9, 0.9, 0.9, 0.9, 0.9,\n",
      "                   0.9, 0.9, 0.9, 0.9, 0.9, 0.9, 0.9, 0.9, 0.9, 0.9],\n",
      "             mask=[False, False, False, False, False, False, False, False,\n",
      "                   False, False, False, False, False, False, False, False,\n",
      "                   False, False, False, False, False, False, False, False,\n",
      "                   False, False, False, False, False, False, False, False,\n",
      "                   False, False, False, False, False, False, False, False,\n",
      "                   False, False, False, False, False, False, False, False,\n",
      "                   False, False, False, False, False, False],\n",
      "       fill_value='?',\n",
      "            dtype=object), 'param_leraning_rate': masked_array(data=[0.0001, 0.0001, 0.0001, 0.001, 0.001, 0.001, 0.01,\n",
      "                   0.01, 0.01, 0.1, 0.1, 0.1, 0.2, 0.2, 0.2, 0.3, 0.3,\n",
      "                   0.3, 0.0001, 0.0001, 0.0001, 0.001, 0.001, 0.001, 0.01,\n",
      "                   0.01, 0.01, 0.1, 0.1, 0.1, 0.2, 0.2, 0.2, 0.3, 0.3,\n",
      "                   0.3, 0.0001, 0.0001, 0.0001, 0.001, 0.001, 0.001, 0.01,\n",
      "                   0.01, 0.01, 0.1, 0.1, 0.1, 0.2, 0.2, 0.2, 0.3, 0.3,\n",
      "                   0.3],\n",
      "             mask=[False, False, False, False, False, False, False, False,\n",
      "                   False, False, False, False, False, False, False, False,\n",
      "                   False, False, False, False, False, False, False, False,\n",
      "                   False, False, False, False, False, False, False, False,\n",
      "                   False, False, False, False, False, False, False, False,\n",
      "                   False, False, False, False, False, False, False, False,\n",
      "                   False, False, False, False, False, False],\n",
      "       fill_value='?',\n",
      "            dtype=object), 'param_subsample': masked_array(data=[0.2, 0.5, 0.9, 0.2, 0.5, 0.9, 0.2, 0.5, 0.9, 0.2, 0.5,\n",
      "                   0.9, 0.2, 0.5, 0.9, 0.2, 0.5, 0.9, 0.2, 0.5, 0.9, 0.2,\n",
      "                   0.5, 0.9, 0.2, 0.5, 0.9, 0.2, 0.5, 0.9, 0.2, 0.5, 0.9,\n",
      "                   0.2, 0.5, 0.9, 0.2, 0.5, 0.9, 0.2, 0.5, 0.9, 0.2, 0.5,\n",
      "                   0.9, 0.2, 0.5, 0.9, 0.2, 0.5, 0.9, 0.2, 0.5, 0.9],\n",
      "             mask=[False, False, False, False, False, False, False, False,\n",
      "                   False, False, False, False, False, False, False, False,\n",
      "                   False, False, False, False, False, False, False, False,\n",
      "                   False, False, False, False, False, False, False, False,\n",
      "                   False, False, False, False, False, False, False, False,\n",
      "                   False, False, False, False, False, False, False, False,\n",
      "                   False, False, False, False, False, False],\n",
      "       fill_value='?',\n",
      "            dtype=object), 'params': [{'colsample_bytree': 0.5, 'leraning_rate': 0.0001, 'subsample': 0.2}, {'colsample_bytree': 0.5, 'leraning_rate': 0.0001, 'subsample': 0.5}, {'colsample_bytree': 0.5, 'leraning_rate': 0.0001, 'subsample': 0.9}, {'colsample_bytree': 0.5, 'leraning_rate': 0.001, 'subsample': 0.2}, {'colsample_bytree': 0.5, 'leraning_rate': 0.001, 'subsample': 0.5}, {'colsample_bytree': 0.5, 'leraning_rate': 0.001, 'subsample': 0.9}, {'colsample_bytree': 0.5, 'leraning_rate': 0.01, 'subsample': 0.2}, {'colsample_bytree': 0.5, 'leraning_rate': 0.01, 'subsample': 0.5}, {'colsample_bytree': 0.5, 'leraning_rate': 0.01, 'subsample': 0.9}, {'colsample_bytree': 0.5, 'leraning_rate': 0.1, 'subsample': 0.2}, {'colsample_bytree': 0.5, 'leraning_rate': 0.1, 'subsample': 0.5}, {'colsample_bytree': 0.5, 'leraning_rate': 0.1, 'subsample': 0.9}, {'colsample_bytree': 0.5, 'leraning_rate': 0.2, 'subsample': 0.2}, {'colsample_bytree': 0.5, 'leraning_rate': 0.2, 'subsample': 0.5}, {'colsample_bytree': 0.5, 'leraning_rate': 0.2, 'subsample': 0.9}, {'colsample_bytree': 0.5, 'leraning_rate': 0.3, 'subsample': 0.2}, {'colsample_bytree': 0.5, 'leraning_rate': 0.3, 'subsample': 0.5}, {'colsample_bytree': 0.5, 'leraning_rate': 0.3, 'subsample': 0.9}, {'colsample_bytree': 0.7, 'leraning_rate': 0.0001, 'subsample': 0.2}, {'colsample_bytree': 0.7, 'leraning_rate': 0.0001, 'subsample': 0.5}, {'colsample_bytree': 0.7, 'leraning_rate': 0.0001, 'subsample': 0.9}, {'colsample_bytree': 0.7, 'leraning_rate': 0.001, 'subsample': 0.2}, {'colsample_bytree': 0.7, 'leraning_rate': 0.001, 'subsample': 0.5}, {'colsample_bytree': 0.7, 'leraning_rate': 0.001, 'subsample': 0.9}, {'colsample_bytree': 0.7, 'leraning_rate': 0.01, 'subsample': 0.2}, {'colsample_bytree': 0.7, 'leraning_rate': 0.01, 'subsample': 0.5}, {'colsample_bytree': 0.7, 'leraning_rate': 0.01, 'subsample': 0.9}, {'colsample_bytree': 0.7, 'leraning_rate': 0.1, 'subsample': 0.2}, {'colsample_bytree': 0.7, 'leraning_rate': 0.1, 'subsample': 0.5}, {'colsample_bytree': 0.7, 'leraning_rate': 0.1, 'subsample': 0.9}, {'colsample_bytree': 0.7, 'leraning_rate': 0.2, 'subsample': 0.2}, {'colsample_bytree': 0.7, 'leraning_rate': 0.2, 'subsample': 0.5}, {'colsample_bytree': 0.7, 'leraning_rate': 0.2, 'subsample': 0.9}, {'colsample_bytree': 0.7, 'leraning_rate': 0.3, 'subsample': 0.2}, {'colsample_bytree': 0.7, 'leraning_rate': 0.3, 'subsample': 0.5}, {'colsample_bytree': 0.7, 'leraning_rate': 0.3, 'subsample': 0.9}, {'colsample_bytree': 0.9, 'leraning_rate': 0.0001, 'subsample': 0.2}, {'colsample_bytree': 0.9, 'leraning_rate': 0.0001, 'subsample': 0.5}, {'colsample_bytree': 0.9, 'leraning_rate': 0.0001, 'subsample': 0.9}, {'colsample_bytree': 0.9, 'leraning_rate': 0.001, 'subsample': 0.2}, {'colsample_bytree': 0.9, 'leraning_rate': 0.001, 'subsample': 0.5}, {'colsample_bytree': 0.9, 'leraning_rate': 0.001, 'subsample': 0.9}, {'colsample_bytree': 0.9, 'leraning_rate': 0.01, 'subsample': 0.2}, {'colsample_bytree': 0.9, 'leraning_rate': 0.01, 'subsample': 0.5}, {'colsample_bytree': 0.9, 'leraning_rate': 0.01, 'subsample': 0.9}, {'colsample_bytree': 0.9, 'leraning_rate': 0.1, 'subsample': 0.2}, {'colsample_bytree': 0.9, 'leraning_rate': 0.1, 'subsample': 0.5}, {'colsample_bytree': 0.9, 'leraning_rate': 0.1, 'subsample': 0.9}, {'colsample_bytree': 0.9, 'leraning_rate': 0.2, 'subsample': 0.2}, {'colsample_bytree': 0.9, 'leraning_rate': 0.2, 'subsample': 0.5}, {'colsample_bytree': 0.9, 'leraning_rate': 0.2, 'subsample': 0.9}, {'colsample_bytree': 0.9, 'leraning_rate': 0.3, 'subsample': 0.2}, {'colsample_bytree': 0.9, 'leraning_rate': 0.3, 'subsample': 0.5}, {'colsample_bytree': 0.9, 'leraning_rate': 0.3, 'subsample': 0.9}], 'split0_test_score': array([0.86872289, 0.86890968, 0.8690526 , 0.86872289, 0.86890968,\n",
      "       0.8690526 , 0.86872289, 0.86890968, 0.8690526 , 0.86872289,\n",
      "       0.86890968, 0.8690526 , 0.86872289, 0.86890968, 0.8690526 ,\n",
      "       0.86872289, 0.86890968, 0.8690526 , 0.8692257 , 0.8692533 ,\n",
      "       0.86917148, 0.8692257 , 0.8692533 , 0.86917148, 0.8692257 ,\n",
      "       0.8692533 , 0.86917148, 0.8692257 , 0.8692533 , 0.86917148,\n",
      "       0.8692257 , 0.8692533 , 0.86917148, 0.8692257 , 0.8692533 ,\n",
      "       0.86917148, 0.86928004, 0.86951862, 0.86949252, 0.86928004,\n",
      "       0.86951862, 0.86949252, 0.86928004, 0.86951862, 0.86949252,\n",
      "       0.86928004, 0.86951862, 0.86949252, 0.86928004, 0.86951862,\n",
      "       0.86949252, 0.86928004, 0.86951862, 0.86949252]), 'split1_test_score': array([0.8676823 , 0.86778284, 0.86794289, 0.8676823 , 0.86778284,\n",
      "       0.86794289, 0.8676823 , 0.86778284, 0.86794289, 0.8676823 ,\n",
      "       0.86778284, 0.86794289, 0.8676823 , 0.86778284, 0.86794289,\n",
      "       0.8676823 , 0.86778284, 0.86794289, 0.8677559 , 0.86790265,\n",
      "       0.86806747, 0.8677559 , 0.86790265, 0.86806747, 0.8677559 ,\n",
      "       0.86790265, 0.86806747, 0.8677559 , 0.86790265, 0.86806747,\n",
      "       0.8677559 , 0.86790265, 0.86806747, 0.8677559 , 0.86790265,\n",
      "       0.86806747, 0.86830996, 0.86814187, 0.86831024, 0.86830996,\n",
      "       0.86814187, 0.86831024, 0.86830996, 0.86814187, 0.86831024,\n",
      "       0.86830996, 0.86814187, 0.86831024, 0.86830996, 0.86814187,\n",
      "       0.86831024, 0.86830996, 0.86814187, 0.86831024]), 'split2_test_score': array([0.86883607, 0.86878223, 0.8689801 , 0.86883607, 0.86878223,\n",
      "       0.8689801 , 0.86883607, 0.86878223, 0.8689801 , 0.86883607,\n",
      "       0.86878223, 0.8689801 , 0.86883607, 0.86878223, 0.8689801 ,\n",
      "       0.86883607, 0.86878223, 0.8689801 , 0.86924786, 0.86931115,\n",
      "       0.86919559, 0.86924786, 0.86931115, 0.86919559, 0.86924786,\n",
      "       0.86931115, 0.86919559, 0.86924786, 0.86931115, 0.86919559,\n",
      "       0.86924786, 0.86931115, 0.86919559, 0.86924786, 0.86931115,\n",
      "       0.86919559, 0.86916347, 0.86926162, 0.86935375, 0.86916347,\n",
      "       0.86926162, 0.86935375, 0.86916347, 0.86926162, 0.86935375,\n",
      "       0.86916347, 0.86926162, 0.86935375, 0.86916347, 0.86926162,\n",
      "       0.86935375, 0.86916347, 0.86926162, 0.86935375]), 'split3_test_score': array([0.8680062 , 0.86819775, 0.86845706, 0.8680062 , 0.86819775,\n",
      "       0.86845706, 0.8680062 , 0.86819775, 0.86845706, 0.8680062 ,\n",
      "       0.86819775, 0.86845706, 0.8680062 , 0.86819775, 0.86845706,\n",
      "       0.8680062 , 0.86819775, 0.86845706, 0.86806603, 0.86822773,\n",
      "       0.86846942, 0.86806603, 0.86822773, 0.86846942, 0.86806603,\n",
      "       0.86822773, 0.86846942, 0.86806603, 0.86822773, 0.86846942,\n",
      "       0.86806603, 0.86822773, 0.86846942, 0.86806603, 0.86822773,\n",
      "       0.86846942, 0.8682801 , 0.86863778, 0.86843613, 0.8682801 ,\n",
      "       0.86863778, 0.86843613, 0.8682801 , 0.86863778, 0.86843613,\n",
      "       0.8682801 , 0.86863778, 0.86843613, 0.8682801 , 0.86863778,\n",
      "       0.86843613, 0.8682801 , 0.86863778, 0.86843613]), 'split4_test_score': array([0.87118435, 0.8713542 , 0.87145107, 0.87118435, 0.8713542 ,\n",
      "       0.87145107, 0.87118435, 0.8713542 , 0.87145107, 0.87118435,\n",
      "       0.8713542 , 0.87145107, 0.87118435, 0.8713542 , 0.87145107,\n",
      "       0.87118435, 0.8713542 , 0.87145107, 0.87171818, 0.87169394,\n",
      "       0.8716968 , 0.87171818, 0.87169394, 0.8716968 , 0.87171818,\n",
      "       0.87169394, 0.8716968 , 0.87171818, 0.87169394, 0.8716968 ,\n",
      "       0.87171818, 0.87169394, 0.8716968 , 0.87171818, 0.87169394,\n",
      "       0.8716968 , 0.87150161, 0.87143076, 0.87161463, 0.87150161,\n",
      "       0.87143076, 0.87161463, 0.87150161, 0.87143076, 0.87161463,\n",
      "       0.87150161, 0.87143076, 0.87161463, 0.87150161, 0.87143076,\n",
      "       0.87161463, 0.87150161, 0.87143076, 0.87161463]), 'mean_test_score': array([0.86888636, 0.86900534, 0.86917674, 0.86888636, 0.86900534,\n",
      "       0.86917674, 0.86888636, 0.86900534, 0.86917674, 0.86888636,\n",
      "       0.86900534, 0.86917674, 0.86888636, 0.86900534, 0.86917674,\n",
      "       0.86888636, 0.86900534, 0.86917674, 0.86920273, 0.86927775,\n",
      "       0.86932015, 0.86920273, 0.86927775, 0.86932015, 0.86920273,\n",
      "       0.86927775, 0.86932015, 0.86920273, 0.86927775, 0.86932015,\n",
      "       0.86920273, 0.86927775, 0.86932015, 0.86920273, 0.86927775,\n",
      "       0.86932015, 0.86930704, 0.86939813, 0.86944145, 0.86930704,\n",
      "       0.86939813, 0.86944145, 0.86930704, 0.86939813, 0.86944145,\n",
      "       0.86930704, 0.86939813, 0.86944145, 0.86930704, 0.86939813,\n",
      "       0.86944145, 0.86930704, 0.86939813, 0.86944145]), 'std_test_score': array([0.00122756, 0.0012428 , 0.00120557, 0.00122756, 0.0012428 ,\n",
      "       0.00120557, 0.00122756, 0.0012428 , 0.00120557, 0.00122756,\n",
      "       0.0012428 , 0.00120557, 0.00122756, 0.0012428 , 0.00120557,\n",
      "       0.00122756, 0.0012428 , 0.00120557, 0.00139395, 0.00132914,\n",
      "       0.00126325, 0.00139395, 0.00132914, 0.00126325, 0.00139395,\n",
      "       0.00132914, 0.00126325, 0.00139395, 0.00132914, 0.00126325,\n",
      "       0.00139395, 0.00132914, 0.00126325, 0.00139395, 0.00132914,\n",
      "       0.00126325, 0.00117356, 0.00112437, 0.00118518, 0.00117356,\n",
      "       0.00112437, 0.00118518, 0.00117356, 0.00112437, 0.00118518,\n",
      "       0.00117356, 0.00112437, 0.00118518, 0.00117356, 0.00112437,\n",
      "       0.00118518, 0.00117356, 0.00112437, 0.00118518]), 'rank_test_score': array([49, 43, 37, 49, 43, 37, 49, 43, 37, 49, 43, 37, 49, 43, 37, 49, 43,\n",
      "       37, 31, 25, 13, 31, 25, 13, 31, 25, 13, 31, 25, 13, 31, 25, 13, 31,\n",
      "       25, 13, 19,  7,  1, 19,  7,  1, 19,  7,  1, 19,  7,  1, 19,  7,  1,\n",
      "       19,  7,  1])} {'colsample_bytree': 0.9, 'leraning_rate': 0.0001, 'subsample': 0.9} 0.8694414524423513\n"
     ]
    }
   ],
   "source": [
    "param_test1 = {'leraning_rate':[0.0001,0.001,0.01,0.1,0.2,0.3],\n",
    "              'subsample':[0.2,0.5,0.9],\n",
    "              'colsample_bytree':[0.5,0.7,0.9]\n",
    "              }\n",
    "\n",
    "gsearch1 = GridSearchCV(estimator=XGBClassifier(objective='binary:logistic'),\n",
    "                      param_grid=param_test1,\n",
    "                       scoring='roc_auc',\n",
    "                       n_jobs=-1, cv=5)\n",
    "\n",
    "gsearch1.fit(X_train, y_train)\n",
    "print(gsearch1.cv_results_, gsearch1.best_params_, gsearch1.best_score_)"
   ]
  },
  {
   "cell_type": "code",
   "execution_count": 65,
   "metadata": {},
   "outputs": [],
   "source": [
    "df_test['Probability'] = gsearch1.predict_proba(X_test)[:,1]\n",
    "columns_output = ['index','Probability']\n",
    "\n",
    "output_df = pd.DataFrame(df_test[columns_output])\n",
    "output_df = output_df.rename(columns={'index':\"Id\"})\n",
    "\n",
    "save_path = 'G:/Github/GiveMeSomeCredits/output/4th_sub.csv'\n",
    "output_df.to_csv(save_path,index=False)"
   ]
  },
  {
   "cell_type": "markdown",
   "metadata": {},
   "source": [
    "* Kaggle private score: 0.8671"
   ]
  },
  {
   "cell_type": "code",
   "execution_count": null,
   "metadata": {},
   "outputs": [],
   "source": [
    "param_test2 = {'leraning_rate':[0.001,0.01,0.1,0.2,0.3],\n",
    "              'subsample':[0.5,0.9,1],\n",
    "              'colsample_bytree':[0.5,0.7,0.9,1],\n",
    "               'min_child_weight':[1,2,3,4],\n",
    "               'reg_lambda':[0.5,1,2],\n",
    "               'reg_alpha':[0,0.5,1]\n",
    "              }\n",
    "\n",
    "gsearch2 = GridSearchCV(estimator=XGBClassifier(objective='binary:logistic'),\n",
    "                      param_grid=param_test2,\n",
    "                       scoring='roc_auc',\n",
    "                       n_jobs=-1, cv=5)\n",
    "\n",
    "gsearch2.fit(X_train, y_train)\n",
    "print(gsearch2.cv_results_, gsearch2.best_params_, gsearch2.best_score_)"
   ]
  },
  {
   "cell_type": "code",
   "execution_count": null,
   "metadata": {},
   "outputs": [],
   "source": [
    "df_test['Probability'] = gsearch2.predict_proba(X_test)[:,1]\n",
    "columns_output = ['index','Probability']\n",
    "\n",
    "output_df = pd.DataFrame(df_test[columns_output])\n",
    "output_df = output_df.rename(columns={'index':\"Id\"})\n",
    "\n",
    "save_path = 'G:/Github/GiveMeSomeCredits/output/5th_sub.csv'\n",
    "output_df.to_csv(save_path,index=False)"
   ]
  }
 ],
 "metadata": {
  "kernelspec": {
   "display_name": "Python 3",
   "language": "python",
   "name": "python3"
  },
  "language_info": {
   "codemirror_mode": {
    "name": "ipython",
    "version": 3
   },
   "file_extension": ".py",
   "mimetype": "text/x-python",
   "name": "python",
   "nbconvert_exporter": "python",
   "pygments_lexer": "ipython3",
   "version": "3.7.3"
  }
 },
 "nbformat": 4,
 "nbformat_minor": 4
}
