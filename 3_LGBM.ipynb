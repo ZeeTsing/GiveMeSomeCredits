{
 "cells": [
  {
   "cell_type": "markdown",
   "metadata": {},
   "source": [
    "# Import data and treat missing values\n",
    "\n",
    "As observed in first iteration, the data is rather clean except some missing values\n",
    "\n",
    "The fact that only 12 features included in the data means that we may skip the process of feature selection but we could consider feature engineering if needed"
   ]
  },
  {
   "cell_type": "code",
   "execution_count": 1,
   "metadata": {},
   "outputs": [],
   "source": [
    "import pandas as pd\n",
    "import numpy as np\n",
    "import seaborn as sns\n",
    "import matplotlib.pyplot as plt\n",
    "import scipy\n",
    "from collections import Counter\n",
    "from helper_func import *"
   ]
  },
  {
   "cell_type": "code",
   "execution_count": 2,
   "metadata": {},
   "outputs": [
    {
     "name": "stderr",
     "output_type": "stream",
     "text": [
      "C:\\Users\\Zhiqing\\Anaconda3\\lib\\site-packages\\tensorflow\\python\\framework\\dtypes.py:526: FutureWarning: Passing (type, 1) or '1type' as a synonym of type is deprecated; in a future version of numpy, it will be understood as (type, (1,)) / '(1,)type'.\n",
      "  _np_qint8 = np.dtype([(\"qint8\", np.int8, 1)])\n",
      "C:\\Users\\Zhiqing\\Anaconda3\\lib\\site-packages\\tensorflow\\python\\framework\\dtypes.py:527: FutureWarning: Passing (type, 1) or '1type' as a synonym of type is deprecated; in a future version of numpy, it will be understood as (type, (1,)) / '(1,)type'.\n",
      "  _np_quint8 = np.dtype([(\"quint8\", np.uint8, 1)])\n",
      "C:\\Users\\Zhiqing\\Anaconda3\\lib\\site-packages\\tensorflow\\python\\framework\\dtypes.py:528: FutureWarning: Passing (type, 1) or '1type' as a synonym of type is deprecated; in a future version of numpy, it will be understood as (type, (1,)) / '(1,)type'.\n",
      "  _np_qint16 = np.dtype([(\"qint16\", np.int16, 1)])\n",
      "C:\\Users\\Zhiqing\\Anaconda3\\lib\\site-packages\\tensorflow\\python\\framework\\dtypes.py:529: FutureWarning: Passing (type, 1) or '1type' as a synonym of type is deprecated; in a future version of numpy, it will be understood as (type, (1,)) / '(1,)type'.\n",
      "  _np_quint16 = np.dtype([(\"quint16\", np.uint16, 1)])\n",
      "C:\\Users\\Zhiqing\\Anaconda3\\lib\\site-packages\\tensorflow\\python\\framework\\dtypes.py:530: FutureWarning: Passing (type, 1) or '1type' as a synonym of type is deprecated; in a future version of numpy, it will be understood as (type, (1,)) / '(1,)type'.\n",
      "  _np_qint32 = np.dtype([(\"qint32\", np.int32, 1)])\n",
      "C:\\Users\\Zhiqing\\Anaconda3\\lib\\site-packages\\tensorflow\\python\\framework\\dtypes.py:535: FutureWarning: Passing (type, 1) or '1type' as a synonym of type is deprecated; in a future version of numpy, it will be understood as (type, (1,)) / '(1,)type'.\n",
      "  np_resource = np.dtype([(\"resource\", np.ubyte, 1)])\n"
     ]
    }
   ],
   "source": [
    "from sklearn.metrics import accuracy_score, f1_score,roc_auc_score,accuracy_score, confusion_matrix, roc_curve\n",
    "from sklearn import preprocessing\n",
    "from imblearn.over_sampling import SMOTE\n",
    "from imblearn.over_sampling import RandomOverSampler\n",
    "from sklearn.linear_model import LogisticRegressionCV"
   ]
  },
  {
   "cell_type": "code",
   "execution_count": 3,
   "metadata": {},
   "outputs": [],
   "source": [
    "train_path = 'G:/Github/GiveMeSomeCredits/data/cs-training.csv'\n",
    "test_path = 'G:/Github/GiveMeSomeCredits/data/cs-test.csv'"
   ]
  },
  {
   "cell_type": "code",
   "execution_count": 4,
   "metadata": {},
   "outputs": [],
   "source": [
    "def data_import_and_preprocess(resample = 'ROS',scale = True):\n",
    "    #import\n",
    "    train_path = 'G:/Github/GiveMeSomeCredits/data/cs-training.csv'\n",
    "    test_path = 'G:/Github/GiveMeSomeCredits/data/cs-test.csv'\n",
    "    df_train = pd.read_csv(train_path,index_col = 0).reset_index()\n",
    "    df_test = pd.read_csv(test_path,index_col = 0).reset_index()\n",
    "    \n",
    "    #fill in NA\n",
    "    df_train = df_train.fillna(0)\n",
    "    df_test = df_test.fillna(0)\n",
    "    \n",
    "    y = df_train.SeriousDlqin2yrs\n",
    "    X = df_train.drop(columns=['SeriousDlqin2yrs','index'])\n",
    "    X_test = df_test.drop(columns=['SeriousDlqin2yrs','index'])\n",
    "    \n",
    "    assert resample\n",
    "    if resample == 'ROS':\n",
    "        X_resampled, y_resampled = RandomOverSampler(random_state=0).fit_sample(X,y)\n",
    "    elif resample == \"SMOTE\":\n",
    "        X_resampled, y_resampled = SMOTE(random_state=0).fit_sample(X,y)\n",
    "    \n",
    "    if scale:\n",
    "        scaler = preprocessing.StandardScaler().fit(X_resampled)\n",
    "        X_train = scaler.transform(X_resampled)\n",
    "        X_test = scaler.transform(X_test)\n",
    "    else:\n",
    "        X_train = X_resampled\n",
    "    \n",
    "    return X_train,y_resampled,X_test"
   ]
  },
  {
   "cell_type": "code",
   "execution_count": 13,
   "metadata": {},
   "outputs": [],
   "source": [
    "df_test = pd.read_csv(test_path,index_col = 0).reset_index()"
   ]
  },
  {
   "cell_type": "markdown",
   "metadata": {},
   "source": [
    "# Model training"
   ]
  },
  {
   "cell_type": "markdown",
   "metadata": {},
   "source": [
    "\n",
    "* Light GBM model\n"
   ]
  },
  {
   "cell_type": "code",
   "execution_count": 5,
   "metadata": {},
   "outputs": [],
   "source": [
    "X_train,y_train,X_test = data_import_and_preprocess()"
   ]
  },
  {
   "cell_type": "code",
   "execution_count": 8,
   "metadata": {},
   "outputs": [],
   "source": [
    "import lightgbm\n",
    "from sklearn.model_selection import GridSearchCV"
   ]
  },
  {
   "cell_type": "code",
   "execution_count": 9,
   "metadata": {},
   "outputs": [],
   "source": [
    "clf = lightgbm.LGBMClassifier(num_leaves=80, \n",
    "                    max_depth=7, \n",
    "                    min_data_in_leaf=3,\n",
    "                    objective='binary')"
   ]
  },
  {
   "cell_type": "code",
   "execution_count": 10,
   "metadata": {},
   "outputs": [],
   "source": [
    "fitted_model,results = model_fit_train_score_skf(clf,X_train,y_train)"
   ]
  },
  {
   "cell_type": "code",
   "execution_count": 11,
   "metadata": {},
   "outputs": [
    {
     "name": "stdout",
     "output_type": "stream",
     "text": [
      "Accuracy: 0.814 \n",
      "F1 score: 0.813 \n",
      "AUC score: 0.898\n"
     ]
    }
   ],
   "source": [
    "print(f\"Accuracy: {results['Accuracy_mean']:.3f} \\nF1 score: {results['F1_mean']:.3f} \\nAUC score: {results['AUC_mean']:.3f}\")"
   ]
  },
  {
   "cell_type": "code",
   "execution_count": 14,
   "metadata": {},
   "outputs": [],
   "source": [
    "df_test['Probability'] = fitted_model.predict_proba(X_test)[:,1]\n",
    "columns_output = ['index','Probability']\n",
    "\n",
    "output_df = pd.DataFrame(df_test[columns_output])\n",
    "output_df = output_df.rename(columns={'index':\"Id\"})\n",
    "\n",
    "save_path = 'G:/Github/GiveMeSomeCredits/output/1st_sublgbm.csv'\n",
    "output_df.to_csv(save_path,index=False)"
   ]
  },
  {
   "cell_type": "code",
   "execution_count": 19,
   "metadata": {},
   "outputs": [
    {
     "data": {
      "text/plain": [
       "<matplotlib.axes._subplots.AxesSubplot at 0x1534f6c17f0>"
      ]
     },
     "execution_count": 19,
     "metadata": {},
     "output_type": "execute_result"
    },
    {
     "data": {
      "image/png": "[encoded data removed]",
      "text/plain": [
       "<Figure size 432x288 with 1 Axes>"
      ]
     },
     "metadata": {
      "needs_background": "light"
     },
     "output_type": "display_data"
    }
   ],
   "source": [
    "lightgbm.plot_importance(fitted_model,importance_type='gain')"
   ]
  },
  {
   "cell_type": "markdown",
   "metadata": {},
   "source": [
    "* Kaggle score: 0.86194\n",
    "\n",
    "Can we improve it?"
   ]
  },
  {
   "cell_type": "code",
   "execution_count": null,
   "metadata": {},
   "outputs": [],
   "source": [
    "## The code below was not implemented because of time. need to work with a more efficient algo around grid search\n",
    "param_test1 = {'num_leaves':[70,80,90,100,110],\n",
    "              'max_depth':[7],\n",
    "              'min_data_in_leaf':[1,3,5],\n",
    "               'learning_rate':[0.001,0.01,0.05,0.1]\n",
    "              }\n",
    "\n",
    "gsearch1 = GridSearchCV(estimator=lightgbm.LGBMClassifier(objective='binary'),\n",
    "                      param_grid=param_test1,\n",
    "                       scoring='roc_auc',\n",
    "                       n_jobs=-1, cv=5)\n",
    "\n",
    "gsearch1.fit(X_train, y_train)\n",
    "print(gsearch1.cv_results_, gsearch1.best_params_, gsearch1.best_score_)"
   ]
  },
  {
   "cell_type": "code",
   "execution_count": null,
   "metadata": {},
   "outputs": [],
   "source": [
    "df_test['Probability'] = gsearch1.predict_proba(X_test)[:,1]\n",
    "columns_output = ['index','Probability']\n",
    "\n",
    "output_df = pd.DataFrame(df_test[columns_output])\n",
    "output_df = output_df.rename(columns={'index':\"Id\"})\n",
    "\n",
    "save_path = 'G:/Github/GiveMeSomeCredits/output/2nd_sublgbm.csv'\n",
    "output_df.to_csv(save_path,index=False)"
   ]
  },
  {
   "cell_type": "code",
   "execution_count": null,
   "metadata": {},
   "outputs": [],
   "source": []
  }
 ],
 "metadata": {
  "kernelspec": {
   "display_name": "Python 3",
   "language": "python",
   "name": "python3"
  },
  "language_info": {
   "codemirror_mode": {
    "name": "ipython",
    "version": 3
   },
   "file_extension": ".py",
   "mimetype": "text/x-python",
   "name": "python",
   "nbconvert_exporter": "python",
   "pygments_lexer": "ipython3",
   "version": "3.7.3"
  }
 },
 "nbformat": 4,
 "nbformat_minor": 4
}
